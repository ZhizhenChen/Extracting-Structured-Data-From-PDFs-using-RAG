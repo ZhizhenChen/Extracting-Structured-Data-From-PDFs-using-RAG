{
 "cells": [
  {
   "cell_type": "code",
   "execution_count": 1,
   "id": "a6770614-1fdf-4897-b8e1-166d1556bfb4",
   "metadata": {},
   "outputs": [
    {
     "name": "stdout",
     "output_type": "stream",
     "text": [
      "\n",
      "\u001b[1m[\u001b[0m\u001b[34;49mnotice\u001b[0m\u001b[1;39;49m]\u001b[0m\u001b[39;49m A new release of pip is available: \u001b[0m\u001b[31;49m24.0\u001b[0m\u001b[39;49m -> \u001b[0m\u001b[32;49m25.0.1\u001b[0m\n",
      "\u001b[1m[\u001b[0m\u001b[34;49mnotice\u001b[0m\u001b[1;39;49m]\u001b[0m\u001b[39;49m To update, run: \u001b[0m\u001b[32;49mpip install --upgrade pip\u001b[0m\n",
      "\n",
      "\u001b[1m[\u001b[0m\u001b[34;49mnotice\u001b[0m\u001b[1;39;49m]\u001b[0m\u001b[39;49m A new release of pip is available: \u001b[0m\u001b[31;49m24.0\u001b[0m\u001b[39;49m -> \u001b[0m\u001b[32;49m25.0.1\u001b[0m\n",
      "\u001b[1m[\u001b[0m\u001b[34;49mnotice\u001b[0m\u001b[1;39;49m]\u001b[0m\u001b[39;49m To update, run: \u001b[0m\u001b[32;49mpip install --upgrade pip\u001b[0m\n"
     ]
    }
   ],
   "source": [
    "!pip3 install --upgrade --quiet langchain langchain-community langchain-openai chromadb\n",
    "!pip3 install --upgrade --quiet pypdf pandas streamlit python-dotenv"
   ]
  },
  {
   "cell_type": "code",
   "execution_count": 1,
   "id": "45651306-1599-48fe-8409-938effeb70b2",
   "metadata": {},
   "outputs": [
    {
     "name": "stderr",
     "output_type": "stream",
     "text": [
      "/Users/nicole_chan/Library/CloudStorage/OneDrive-CUHK-Shenzhen/Extracting-Structured-Data-From-PDFs-using-RAG/myenv/lib/python3.12/site-packages/IPython/core/interactiveshell.py:3549: LangChainDeprecationWarning: As of langchain-core 0.3.0, LangChain uses pydantic v2 internally. The langchain_core.pydantic_v1 module was a compatibility shim for pydantic v1, and should no longer be used. Please update the code to import from Pydantic directly.\n",
      "\n",
      "For example, replace imports like: `from langchain_core.pydantic_v1 import BaseModel`\n",
      "with: `from pydantic import BaseModel`\n",
      "or the v1 compatibility namespace if you are working in a code base that has not been fully upgraded to pydantic 2 yet. \tfrom pydantic.v1 import BaseModel\n",
      "\n",
      "  exec(code_obj, self.user_global_ns, self.user_ns)\n"
     ]
    }
   ],
   "source": [
    "# Import Langchain modules\n",
    "from langchain.document_loaders import PyPDFLoader\n",
    "from langchain.text_splitter import RecursiveCharacterTextSplitter\n",
    "from langchain_openai import OpenAIEmbeddings, ChatOpenAI\n",
    "from langchain.vectorstores import Chroma\n",
    "from langchain_core.runnables import RunnablePassthrough\n",
    "from langchain_core.prompts import ChatPromptTemplate\n",
    "from langchain_core.pydantic_v1 import BaseModel, Field\n",
    "\n",
    "# Other modules and packages\n",
    "import os\n",
    "import tempfile\n",
    "import streamlit as st\n",
    "import pandas as pd\n",
    "from dotenv import load_dotenv"
   ]
  },
  {
   "cell_type": "code",
   "execution_count": 2,
   "id": "9428ac10",
   "metadata": {},
   "outputs": [
    {
     "data": {
      "text/plain": [
       "True"
      ]
     },
     "execution_count": 2,
     "metadata": {},
     "output_type": "execute_result"
    }
   ],
   "source": [
    "load_dotenv()"
   ]
  },
  {
   "cell_type": "code",
   "execution_count": 3,
   "id": "f17ac40b",
   "metadata": {},
   "outputs": [],
   "source": [
    "OPENAI_API_KEY = os.environ.get(\"OPENAI_API_KEY\")"
   ]
  },
  {
   "cell_type": "markdown",
   "id": "a28f20a2",
   "metadata": {},
   "source": [
    "Define LLM"
   ]
  },
  {
   "cell_type": "code",
   "execution_count": 4,
   "id": "b46b7b0d",
   "metadata": {},
   "outputs": [],
   "source": [
    "llm = ChatOpenAI(model=\"gpt-4o-mini\", api_key=OPENAI_API_KEY)\n",
    "# llm.invoke(\"Tell me a joke about cats\")"
   ]
  },
  {
   "cell_type": "markdown",
   "id": "ac9e27db",
   "metadata": {},
   "source": [
    "# Process out PDF"
   ]
  },
  {
   "cell_type": "markdown",
   "id": "79a6e0d9",
   "metadata": {},
   "source": [
    "## Load PDF Document"
   ]
  },
  {
   "cell_type": "code",
   "execution_count": 5,
   "id": "f1851f60-6dcf-4707-8ec9-88d9c6f71838",
   "metadata": {},
   "outputs": [
    {
     "name": "stderr",
     "output_type": "stream",
     "text": [
      "Ignoring wrong pointing object 18 0 (offset 0)\n"
     ]
    },
    {
     "data": {
      "text/plain": [
       "[Document(metadata={'producer': 'macOS Version 14.4.1 (Build 23E224) Quartz PDFContext, AppendMode 1.1', 'creator': 'Preview', 'creationdate': \"D:20240909152042Z00'00'\", 'author': 'Thu Vu', 'moddate': \"D:20240910141854Z00'00'\", 'title': 'Oppenheimer-2006-Applied_Cognitive_Psychology', 'source': 'data/Oppenheimer-2006-Applied_Cognitive_Psychology.pdf', 'total_pages': 3, 'page': 0, 'page_label': '1'}, page_content='APPLIED COGNITIVE PSYCHOLOGY\\nAppl. Cognit. Psychol. 20: 139–156 (2006)\\nPublished online 31 October 2005 in Wiley InterScience\\n(www.interscience.wiley.com) DOI: 10.1002/acp.1178\\nConsequences of Erudite Vernacular Utilized Irrespective\\nof Necessity: Problems with Using Long Words Needlessly\\nDANIEL M. OPPENHEIMER*\\nPrinceton University, USA\\nSUMMARY\\nMost texts on writing style encourage authors to avoid overly-complex words. However, a majority\\nof undergraduates admit to deliberately increasing the complexity of their vocabulary so as to give\\nthe impression of intelligence. This paper explores the extent to which this strategy is effective.\\nExperiments 1–3 manipulate complexity of texts and ﬁnd a negative relationship between complex-\\nity and judged intelligence. This relationship held regardless of the quality of the original essay, and\\nirrespective of the participants’ prior expectations of essay quality. The negative impact of\\ncomplexity was mediated by processing ﬂuency. Experiment 4 directly manipulated ﬂuency and\\nfound that texts in hard to read fonts are judged to come from less intelligent authors. Experiment 5\\ninvestigated discounting of ﬂuency. When obvious causes for low ﬂuency exist that are not relevant\\nto the judgement at hand, people reduce their reliance on ﬂuency as a cue; in fact, in an effort not to\\nbe inﬂuenced by the irrelevant source of ﬂuency, they over-compensate and are biased in the opposite\\ndirection. Implications and applications are discussed. Copyright # 2005 John Wiley & Sons, Ltd.\\nWhen it comes to writing, most experts agree that clarity, simplicity and parsimony are\\nideals that authors should strive for. In their classic manual of style, Strunk and White\\n(1979) encourage authors to ‘omit needless words.’ Daryl Bem’s (1995) guidelines for\\nsubmission to Psychological Bulletin advise, ‘the ﬁrst step towards clarity is writing\\nsimply.’ Even the APA publication manual (1996) recommends, ‘direct, declarative\\nsentences with simple common words are usually best.’\\nHowever, most of us can likely recall having read papers, either by colleagues or\\nstudents, in which the author appears to be deliberately using overly complex words.\\nExperience suggests that the experts’ advice contrasts with prevailing wisdom on how to\\nsound more intelligent as a writer. In fact, when 110 Stanford undergraduates were polled\\nabout their writing habits, most of them admitted that they had made their writing more\\ncomplex in order to appear smarter. For example, when asked, ‘Have you ever changed the\\nwords in an academic essay to make the essay sound more valid or intelligent by using\\ncomplicated language?’ 86.4% of the sample admitted to having done so. Nearly two-\\nthirds answered yes to the question, ‘When you write an essay, do you turn to the thesaurus\\nto choose words that are more complex to give the impression that the content is more\\nvalid or intelligent?’\\nCopyright # 2005 John Wiley & Sons, Ltd.\\n*Correspondence to: D. M. Oppenheimer, Department of Psychology, Princeton University, Green Hall Room\\n2-S-8, Princeton, NJ 08540, USA. E-mail: doppenhe@princeton.edu'),\n",
       " Document(metadata={'producer': 'macOS Version 14.4.1 (Build 23E224) Quartz PDFContext, AppendMode 1.1', 'creator': 'Preview', 'creationdate': \"D:20240909152042Z00'00'\", 'author': 'Thu Vu', 'moddate': \"D:20240910141854Z00'00'\", 'title': 'Oppenheimer-2006-Applied_Cognitive_Psychology', 'source': 'data/Oppenheimer-2006-Applied_Cognitive_Psychology.pdf', 'total_pages': 3, 'page': 1, 'page_label': '2'}, page_content='There are many plausible reasons that the use of million-dollar words would lead\\nreaders to believe that an author is smart. Intelligence and large vocabularies are positively\\ncorrelated (Spearman, 1904). Therefore, by displaying a large vocabulary, one may be\\nproviding cues that he or she is intelligent as well. Secondly, writers are assumed to be\\nconforming to the Gricean maxim of manner, ‘avoid obscurity of expression’ (Grice,\\n1975). If authors are believed to be writing as simply as possible, but a text is nonetheless\\ncomplex, a reader might believe that the ideas expressed in that text are also complex,\\ndefying all attempts to simplify the language. Further, individuals forced to struggle\\nthrough a complex text might experience dissonance if they believe that the ideas being\\nconveyed are simple (Festinger, 1957). Thus, individuals might be motivated to perceive a\\ndifﬁcult text as being more worthwhile, thereby justifying the effort of processing.\\nIndeed, there is some evidence that complex vocabulary can be indicative of a more\\nintelligent author. For example, Penneba ker and King (1999) have shown that the\\npercentage of long words used in class as signments positively correlates with SAT\\nscores and exam grades on both multiple cho ice and essay tests. However it is difﬁcult\\nto draw conclusions about the effectiveness of a strategy of complexity from this data.\\nThe study did not look at how readers of the texts containing the long words perceived\\nthe authors’ intelligence. Thus, it is possi ble that although students using complex\\nvocabularies are objectively very knowledgeable, they might nonetheless be perceived\\nas being less so.\\nWhy might we believe that the experts might be correct in recommending simplicity in\\nwriting? One theory that predicts the effectiveness of straightforward writing is that of\\nprocessing ﬂuency. Simpler writing is easier to process, and studies have demonstrated\\nthat processing ﬂuency is associated with a variety of positive dimensions. Fluency leads\\nto higher judgements of truth (Reber & Schwarz, 1999), conﬁdence (Norwick & Epley,\\n2002), frequency (Tversky & Kahneman, 1973), fame (Jacoby, Kelley, Brown, &\\nJasechko, 1989), and even liking (Reber, Winkielman, & Schwarz, 1998). Furthermore,\\nthe effects of ﬂuency are strongest when the ﬂuency is discrepant—when the amount of\\nexperienced ﬂuency is surprising (Whittlesea & Williams, 2001a, 2001b). As such, it\\nwould not be surprising if the lower ﬂuency of overly complex texts caused readers to have\\nnegative evaluations of those texts and the associated authors, especially if the complexity\\nwas unnecessary and thus surprising readers with the relative disﬂuency of the text.\\nBoth the experts and prevailing wisdom present plausible views, but which (if either) is\\ncorrect? The present paper provides an empirical investigation of the strategy of complex-\\nity, and ﬁnds such a strategy to be unsuccessful. Five studies demonstrate that the loss of\\nﬂuency due to needless complexity in a text negatively impacts raters’ assessments of the\\ntext’s authors.\\nEXPERIMENT 1\\nExperiment 1 aimed to answer several simple questions. First, does increasing the\\ncomplexity of text succeed in making the author appear more intelligent? Second, to\\nwhat extent does the success of this strategy depend on the quality of the original, simpler\\nwriting? Finally, if the strategy is unsuccessful, is the failure of the strategy due to loss of\\nﬂuency? To answer these questions, graduate school admission essays were made more\\ncomplex by substituting some of the original words with their longest applicable thesaurus\\nentries.\\n140 D. M. Oppenheimer\\nCopyright # 2005 John Wiley & Sons, Ltd. Appl. Cognit. Psychol. 20: 139–156 (2006)'),\n",
       " Document(metadata={'producer': 'macOS Version 14.4.1 (Build 23E224) Quartz PDFContext, AppendMode 1.1', 'creator': 'Preview', 'creationdate': \"D:20240909152042Z00'00'\", 'author': 'Thu Vu', 'moddate': \"D:20240910141854Z00'00'\", 'title': 'Oppenheimer-2006-Applied_Cognitive_Psychology', 'source': 'data/Oppenheimer-2006-Applied_Cognitive_Psychology.pdf', 'total_pages': 3, 'page': 2, 'page_label': '3'}, page_content='While word length is not perfectly interchangeable with sentence complexity—for\\nexample, complexity can come from grammatical structure or infrequent words as\\nwell—it is a useful proxy. Using length as a manipulation of complexity allows for a\\nsimple, easily replicable word replacement algorithm. By keeping content constant and\\nvarying the complexity of vocabulary, it was possible to investigate the effectiveness of\\ncomplexity.\\nParticipants and procedure\\nSeventy-one Stanford University undergraduates participated to fulﬁl part of a course\\nrequirement. The survey was included in a packet of unrelated one-page questionnaires.\\nPackets were distributed in class, and participants were given a week to complete the entire\\npacket.\\nStimuli and design\\nSix personal statements for admissions to graduate studies in English Literature were\\ndownloaded from writing improvement websites. The essays varied greatly both in content\\nand quality of writing. Logical excerpts ranging from 138 to 253 words in length were then\\ntaken from each essay. A ‘highly complex’ version of each excerpt was prepared by\\nreplacing every noun, verb and adjective with its longest entry in the Microsoft Word 2000\\nthesaurus. Words that were longer than any thesaurus entry, were not listed in the\\nthesaurus, or for which there was no entry with the same linguistic sense were not\\nreplaced. If two entries were of the same length, the replacement was chosen alphabe-\\ntically. When necessary, minor modiﬁcations were made to the essay to maintain the\\ngrammatical structure of a sentence (e.g. replacing ‘an’ with ‘a’ for replacement words\\nbeginning with consonants). A ‘moderately complex’ version of each excerpt was created\\nusing the same algorithm as above, except replacing only every third applicable word.\\nExamples of the stimuli can be found in the appendix.\\nEach participant received only one excerpt. Participants were informed that the excerpt\\ncame from a personal statement for graduate study in the Stanford English department.\\nThey were instructed to read the passage, decide whether or not to accept the applicant,\\nand rate their conﬁdence in their decision on a 7-point scale. 1 They were then asked how\\ndifﬁcult the passage was to understand, also on a seven-point scale.\\nResults\\nThe data of one participant was discarded due to an illegible answer. Analysis of the\\nmanipulation check showed that more complex texts were more difﬁcult to read. ( x ¼ 2.9,\\n4.0 and 4.3 for simple, moderately complex and highly complex, respectively). These\\ndifferences were reliable, F(2, 68) ¼ 4.46, p < 0.05, Cohen’s f ¼ 0.18. For other analyses,\\nacceptance ratings ( þ1 for accept, /C01 for reject) were multiplied by conﬁdence ratings to\\ncreate a /C07 to 7 scale of admission conﬁdence. Level of complexity had a reliable\\ninﬂuence on admission conﬁdence ratings, F(2, 70) ¼ 2.46, p < 0.05, Cohen’s f ¼ 0.12.\\n1With the exception of the dichotomous admissions decision, all dependent measures reported in this paper are\\nseven point scales ranging from 1 ¼ ‘not at all’ to 7¼ ‘very’.\\nProblems with long words 141\\nCopyright # 2005 John Wiley & Sons, Ltd. Appl. Cognit. Psychol. 20: 139–156 (2006)')]"
      ]
     },
     "execution_count": 5,
     "metadata": {},
     "output_type": "execute_result"
    }
   ],
   "source": [
    "loader = PyPDFLoader(\"data/Oppenheimer-2006-Applied_Cognitive_Psychology.pdf\")\n",
    "pages = loader.load()\n",
    "pages"
   ]
  },
  {
   "cell_type": "markdown",
   "id": "f0774220",
   "metadata": {},
   "source": [
    "## Split document\n",
    "\n",
    "We already split the data into pages, but it is still too big for us to process, so we need to split it into even smaller chunks. The idea is that when we split the document into smaller chunks, each chunks would be more focus and more relevant when we query the documents.\n",
    "\n",
    "If the chunks are too big, they might have redundant information, and if the chunks are too small, they mightnot contains enough contact for the LLM to generate good answer."
   ]
  },
  {
   "cell_type": "code",
   "execution_count": 6,
   "id": "3af93082-e4e9-483c-bd30-cade7f8f9015",
   "metadata": {},
   "outputs": [],
   "source": [
    "text_splitter = RecursiveCharacterTextSplitter(\n",
    "    chunk_size=1500,\n",
    "    chunk_overlap=200,\n",
    "    length_function=len,\n",
    "    separators=[\"\\n\\n\", \"\\n\", \" \"],\n",
    ")\n",
    "chunks = text_splitter.split_documents(pages)"
   ]
  },
  {
   "cell_type": "code",
   "execution_count": 7,
   "id": "a030f25f",
   "metadata": {},
   "outputs": [
    {
     "name": "stdout",
     "output_type": "stream",
     "text": [
      "APPLIED COGNITIVE PSYCHOLOGY\n",
      "Appl. Cognit. Psychol. 20: 139–156 (2006)\n",
      "Published online 31 October 2005 in Wiley InterScience\n",
      "(www.interscience.wiley.com) DOI: 10.1002/acp.1178\n",
      "Consequences of Erudite Vernacular Utilized Irrespective\n",
      "of Necessity: Problems with Using Long Words Needlessly\n",
      "DANIEL M. OPPENHEIMER*\n",
      "Princeton University, USA\n",
      "SUMMARY\n",
      "Most texts on writing style encourage authors to avoid overly-complex words. However, a majority\n",
      "of undergraduates admit to deliberately increasing the complexity of their vocabulary so as to give\n",
      "the impression of intelligence. This paper explores the extent to which this strategy is effective.\n",
      "Experiments 1–3 manipulate complexity of texts and ﬁnd a negative relationship between complex-\n",
      "ity and judged intelligence. This relationship held regardless of the quality of the original essay, and\n",
      "irrespective of the participants’ prior expectations of essay quality. The negative impact of\n",
      "complexity was mediated by processing ﬂuency. Experiment 4 directly manipulated ﬂuency and\n",
      "found that texts in hard to read fonts are judged to come from less intelligent authors. Experiment 5\n",
      "investigated discounting of ﬂuency. When obvious causes for low ﬂuency exist that are not relevant\n",
      "to the judgement at hand, people reduce their reliance on ﬂuency as a cue; in fact, in an effort not to\n",
      "be inﬂuenced by the irrelevant source of ﬂuency, they over-compensate and are biased in the opposite\n"
     ]
    }
   ],
   "source": [
    "print(\n",
    "    chunks[0].page_content\n",
    "    # 'This is the content of the first chunk. It has been split using the specified parameters.'\n",
    ")"
   ]
  },
  {
   "cell_type": "markdown",
   "id": "382b17da",
   "metadata": {},
   "source": [
    "## Create embeddings"
   ]
  },
  {
   "cell_type": "code",
   "execution_count": 8,
   "id": "46688bf2-1085-4c6c-8e7f-c73a30fcf223",
   "metadata": {},
   "outputs": [],
   "source": [
    "def get_embedding_function():\n",
    "    embeddings = OpenAIEmbeddings(\n",
    "        model=\"text-embedding-ada-002\", openai_api_key=OPENAI_API_KEY\n",
    "    )\n",
    "    return embeddings\n",
    "\n",
    "\n",
    "embedding_function = get_embedding_function()\n",
    "# test_vector = embedding_function.embed_query(\"cat\")"
   ]
  },
  {
   "cell_type": "code",
   "execution_count": 22,
   "id": "dcdacefa-e0f9-460f-9c0b-f61b5cf18134",
   "metadata": {},
   "outputs": [],
   "source": [
    "import uuid\n",
    "\n",
    "\n",
    "def create_vectorstore(chunks, embedding_function, vectorstore_path):\n",
    "\n",
    "    # Create a list of unique ids for each document based on the content\n",
    "    ids = [str(uuid.uuid5(uuid.NAMESPACE_DNS, doc.page_content)) for doc in chunks]\n",
    "\n",
    "    # Ensure that only unique docs with unique ids are kept\n",
    "    unique_ids = set()\n",
    "    unique_chunks = []\n",
    "\n",
    "    unique_chunks = []\n",
    "    for chunk, id in zip(chunks, ids):\n",
    "        if id not in unique_ids:\n",
    "            unique_ids.add(id)\n",
    "            unique_chunks.append(chunk)\n",
    "\n",
    "    # Create a new Chroma database from the documents\n",
    "    vectorstore = Chroma.from_documents(\n",
    "        documents=unique_chunks,\n",
    "        ids=list(unique_ids),\n",
    "        embedding=embedding_function,\n",
    "        persist_directory=vectorstore_path,\n",
    "    )\n",
    "\n",
    "    vectorstore.persist()\n",
    "\n",
    "    return vectorstore"
   ]
  },
  {
   "cell_type": "code",
   "execution_count": 23,
   "id": "9d54dd8b-68f8-4fd2-9fcd-80b124aba4f4",
   "metadata": {},
   "outputs": [],
   "source": [
    "# Create vectorstore\n",
    "vectorstore = create_vectorstore(\n",
    "    chunks=chunks,\n",
    "    embedding_function=embedding_function,\n",
    "    vectorstore_path=\"vectorstore_new\",\n",
    ")"
   ]
  },
  {
   "cell_type": "markdown",
   "id": "0bc2f292",
   "metadata": {},
   "source": [
    "# Query for relevant data"
   ]
  },
  {
   "cell_type": "code",
   "execution_count": 24,
   "id": "9acd6f34-8fd8-42ad-863e-1fa0988182b6",
   "metadata": {},
   "outputs": [],
   "source": [
    "# Load vectorstore\n",
    "vectorstore = Chroma(\n",
    "    persist_directory=\"vectorstore_new\", embedding_function=embedding_function\n",
    ")"
   ]
  },
  {
   "cell_type": "code",
   "execution_count": 25,
   "id": "62e2e491",
   "metadata": {},
   "outputs": [
    {
     "name": "stdout",
     "output_type": "stream",
     "text": [
      "Document IDs: ['646e5ed1-3179-5c6d-9e1b-95e301b7b677', '502a6ed1-39df-58d5-adf7-637f5af5b0ad', '34dc34b7-987c-5e3f-929f-16aabd02078b', 'be3e1e9d-bb45-5b4c-941f-601460baa26e', '867cdee6-eab7-55f7-a2d5-67f7731a7ef8', '109f7472-54d6-59fc-ace2-30d0eefd7d74', 'db286a7d-02f3-5da7-a589-65d473502de3', '8fa9073b-94ce-576e-a76f-3eb2d035cf8e', '3c80ab1f-f272-5ff3-96b1-65da3ed829ea']\n",
      "Document Metadata: [{'author': 'Thu Vu', 'creationdate': \"D:20240909152042Z00'00'\", 'creator': 'Preview', 'moddate': \"D:20240910141854Z00'00'\", 'page': 0, 'page_label': '1', 'producer': 'macOS Version 14.4.1 (Build 23E224) Quartz PDFContext, AppendMode 1.1', 'source': 'data/Oppenheimer-2006-Applied_Cognitive_Psychology.pdf', 'title': 'Oppenheimer-2006-Applied_Cognitive_Psychology', 'total_pages': 3}, {'author': 'Thu Vu', 'creationdate': \"D:20240909152042Z00'00'\", 'creator': 'Preview', 'moddate': \"D:20240910141854Z00'00'\", 'page': 0, 'page_label': '1', 'producer': 'macOS Version 14.4.1 (Build 23E224) Quartz PDFContext, AppendMode 1.1', 'source': 'data/Oppenheimer-2006-Applied_Cognitive_Psychology.pdf', 'title': 'Oppenheimer-2006-Applied_Cognitive_Psychology', 'total_pages': 3}, {'author': 'Thu Vu', 'creationdate': \"D:20240909152042Z00'00'\", 'creator': 'Preview', 'moddate': \"D:20240910141854Z00'00'\", 'page': 0, 'page_label': '1', 'producer': 'macOS Version 14.4.1 (Build 23E224) Quartz PDFContext, AppendMode 1.1', 'source': 'data/Oppenheimer-2006-Applied_Cognitive_Psychology.pdf', 'title': 'Oppenheimer-2006-Applied_Cognitive_Psychology', 'total_pages': 3}, {'author': 'Thu Vu', 'creationdate': \"D:20240909152042Z00'00'\", 'creator': 'Preview', 'moddate': \"D:20240910141854Z00'00'\", 'page': 1, 'page_label': '2', 'producer': 'macOS Version 14.4.1 (Build 23E224) Quartz PDFContext, AppendMode 1.1', 'source': 'data/Oppenheimer-2006-Applied_Cognitive_Psychology.pdf', 'title': 'Oppenheimer-2006-Applied_Cognitive_Psychology', 'total_pages': 3}, {'author': 'Thu Vu', 'creationdate': \"D:20240909152042Z00'00'\", 'creator': 'Preview', 'moddate': \"D:20240910141854Z00'00'\", 'page': 1, 'page_label': '2', 'producer': 'macOS Version 14.4.1 (Build 23E224) Quartz PDFContext, AppendMode 1.1', 'source': 'data/Oppenheimer-2006-Applied_Cognitive_Psychology.pdf', 'title': 'Oppenheimer-2006-Applied_Cognitive_Psychology', 'total_pages': 3}, {'author': 'Thu Vu', 'creationdate': \"D:20240909152042Z00'00'\", 'creator': 'Preview', 'moddate': \"D:20240910141854Z00'00'\", 'page': 1, 'page_label': '2', 'producer': 'macOS Version 14.4.1 (Build 23E224) Quartz PDFContext, AppendMode 1.1', 'source': 'data/Oppenheimer-2006-Applied_Cognitive_Psychology.pdf', 'title': 'Oppenheimer-2006-Applied_Cognitive_Psychology', 'total_pages': 3}, {'author': 'Thu Vu', 'creationdate': \"D:20240909152042Z00'00'\", 'creator': 'Preview', 'moddate': \"D:20240910141854Z00'00'\", 'page': 2, 'page_label': '3', 'producer': 'macOS Version 14.4.1 (Build 23E224) Quartz PDFContext, AppendMode 1.1', 'source': 'data/Oppenheimer-2006-Applied_Cognitive_Psychology.pdf', 'title': 'Oppenheimer-2006-Applied_Cognitive_Psychology', 'total_pages': 3}, {'author': 'Thu Vu', 'creationdate': \"D:20240909152042Z00'00'\", 'creator': 'Preview', 'moddate': \"D:20240910141854Z00'00'\", 'page': 2, 'page_label': '3', 'producer': 'macOS Version 14.4.1 (Build 23E224) Quartz PDFContext, AppendMode 1.1', 'source': 'data/Oppenheimer-2006-Applied_Cognitive_Psychology.pdf', 'title': 'Oppenheimer-2006-Applied_Cognitive_Psychology', 'total_pages': 3}, {'author': 'Thu Vu', 'creationdate': \"D:20240909152042Z00'00'\", 'creator': 'Preview', 'moddate': \"D:20240910141854Z00'00'\", 'page': 2, 'page_label': '3', 'producer': 'macOS Version 14.4.1 (Build 23E224) Quartz PDFContext, AppendMode 1.1', 'source': 'data/Oppenheimer-2006-Applied_Cognitive_Psychology.pdf', 'title': 'Oppenheimer-2006-Applied_Cognitive_Psychology', 'total_pages': 3}]\n",
      "Document Content: ['APPLIED COGNITIVE PSYCHOLOGY\\nAppl. Cognit. Psychol. 20: 139–156 (2006)\\nPublished online 31 October 2005 in Wiley InterScience\\n(www.interscience.wiley.com) DOI: 10.1002/acp.1178\\nConsequences of Erudite Vernacular Utilized Irrespective\\nof Necessity: Problems with Using Long Words Needlessly\\nDANIEL M. OPPENHEIMER*\\nPrinceton University, USA\\nSUMMARY\\nMost texts on writing style encourage authors to avoid overly-complex words. However, a majority\\nof undergraduates admit to deliberately increasing the complexity of their vocabulary so as to give\\nthe impression of intelligence. This paper explores the extent to which this strategy is effective.\\nExperiments 1–3 manipulate complexity of texts and ﬁnd a negative relationship between complex-\\nity and judged intelligence. This relationship held regardless of the quality of the original essay, and\\nirrespective of the participants’ prior expectations of essay quality. The negative impact of\\ncomplexity was mediated by processing ﬂuency. Experiment 4 directly manipulated ﬂuency and\\nfound that texts in hard to read fonts are judged to come from less intelligent authors. Experiment 5\\ninvestigated discounting of ﬂuency. When obvious causes for low ﬂuency exist that are not relevant\\nto the judgement at hand, people reduce their reliance on ﬂuency as a cue; in fact, in an effort not to\\nbe inﬂuenced by the irrelevant source of ﬂuency, they over-compensate and are biased in the opposite', 'be inﬂuenced by the irrelevant source of ﬂuency, they over-compensate and are biased in the opposite\\ndirection. Implications and applications are discussed. Copyright # 2005 John Wiley & Sons, Ltd.\\nWhen it comes to writing, most experts agree that clarity, simplicity and parsimony are\\nideals that authors should strive for. In their classic manual of style, Strunk and White\\n(1979) encourage authors to ‘omit needless words.’ Daryl Bem’s (1995) guidelines for\\nsubmission to Psychological Bulletin advise, ‘the ﬁrst step towards clarity is writing\\nsimply.’ Even the APA publication manual (1996) recommends, ‘direct, declarative\\nsentences with simple common words are usually best.’\\nHowever, most of us can likely recall having read papers, either by colleagues or\\nstudents, in which the author appears to be deliberately using overly complex words.\\nExperience suggests that the experts’ advice contrasts with prevailing wisdom on how to\\nsound more intelligent as a writer. In fact, when 110 Stanford undergraduates were polled\\nabout their writing habits, most of them admitted that they had made their writing more\\ncomplex in order to appear smarter. For example, when asked, ‘Have you ever changed the\\nwords in an academic essay to make the essay sound more valid or intelligent by using\\ncomplicated language?’ 86.4% of the sample admitted to having done so. Nearly two-\\nthirds answered yes to the question, ‘When you write an essay, do you turn to the thesaurus', 'complicated language?’ 86.4% of the sample admitted to having done so. Nearly two-\\nthirds answered yes to the question, ‘When you write an essay, do you turn to the thesaurus\\nto choose words that are more complex to give the impression that the content is more\\nvalid or intelligent?’\\nCopyright # 2005 John Wiley & Sons, Ltd.\\n*Correspondence to: D. M. Oppenheimer, Department of Psychology, Princeton University, Green Hall Room\\n2-S-8, Princeton, NJ 08540, USA. E-mail: doppenhe@princeton.edu', 'There are many plausible reasons that the use of million-dollar words would lead\\nreaders to believe that an author is smart. Intelligence and large vocabularies are positively\\ncorrelated (Spearman, 1904). Therefore, by displaying a large vocabulary, one may be\\nproviding cues that he or she is intelligent as well. Secondly, writers are assumed to be\\nconforming to the Gricean maxim of manner, ‘avoid obscurity of expression’ (Grice,\\n1975). If authors are believed to be writing as simply as possible, but a text is nonetheless\\ncomplex, a reader might believe that the ideas expressed in that text are also complex,\\ndefying all attempts to simplify the language. Further, individuals forced to struggle\\nthrough a complex text might experience dissonance if they believe that the ideas being\\nconveyed are simple (Festinger, 1957). Thus, individuals might be motivated to perceive a\\ndifﬁcult text as being more worthwhile, thereby justifying the effort of processing.\\nIndeed, there is some evidence that complex vocabulary can be indicative of a more\\nintelligent author. For example, Penneba ker and King (1999) have shown that the\\npercentage of long words used in class as signments positively correlates with SAT\\nscores and exam grades on both multiple cho ice and essay tests. However it is difﬁcult\\nto draw conclusions about the effectiveness of a strategy of complexity from this data.\\nThe study did not look at how readers of the texts containing the long words perceived', 'to draw conclusions about the effectiveness of a strategy of complexity from this data.\\nThe study did not look at how readers of the texts containing the long words perceived\\nthe authors’ intelligence. Thus, it is possi ble that although students using complex\\nvocabularies are objectively very knowledgeable, they might nonetheless be perceived\\nas being less so.\\nWhy might we believe that the experts might be correct in recommending simplicity in\\nwriting? One theory that predicts the effectiveness of straightforward writing is that of\\nprocessing ﬂuency. Simpler writing is easier to process, and studies have demonstrated\\nthat processing ﬂuency is associated with a variety of positive dimensions. Fluency leads\\nto higher judgements of truth (Reber & Schwarz, 1999), conﬁdence (Norwick & Epley,\\n2002), frequency (Tversky & Kahneman, 1973), fame (Jacoby, Kelley, Brown, &\\nJasechko, 1989), and even liking (Reber, Winkielman, & Schwarz, 1998). Furthermore,\\nthe effects of ﬂuency are strongest when the ﬂuency is discrepant—when the amount of\\nexperienced ﬂuency is surprising (Whittlesea & Williams, 2001a, 2001b). As such, it\\nwould not be surprising if the lower ﬂuency of overly complex texts caused readers to have\\nnegative evaluations of those texts and the associated authors, especially if the complexity\\nwas unnecessary and thus surprising readers with the relative disﬂuency of the text.\\nBoth the experts and prevailing wisdom present plausible views, but which (if either) is', 'was unnecessary and thus surprising readers with the relative disﬂuency of the text.\\nBoth the experts and prevailing wisdom present plausible views, but which (if either) is\\ncorrect? The present paper provides an empirical investigation of the strategy of complex-\\nity, and ﬁnds such a strategy to be unsuccessful. Five studies demonstrate that the loss of\\nﬂuency due to needless complexity in a text negatively impacts raters’ assessments of the\\ntext’s authors.\\nEXPERIMENT 1\\nExperiment 1 aimed to answer several simple questions. First, does increasing the\\ncomplexity of text succeed in making the author appear more intelligent? Second, to\\nwhat extent does the success of this strategy depend on the quality of the original, simpler\\nwriting? Finally, if the strategy is unsuccessful, is the failure of the strategy due to loss of\\nﬂuency? To answer these questions, graduate school admission essays were made more\\ncomplex by substituting some of the original words with their longest applicable thesaurus\\nentries.\\n140 D. M. Oppenheimer\\nCopyright # 2005 John Wiley & Sons, Ltd. Appl. Cognit. Psychol. 20: 139–156 (2006)', 'While word length is not perfectly interchangeable with sentence complexity—for\\nexample, complexity can come from grammatical structure or infrequent words as\\nwell—it is a useful proxy. Using length as a manipulation of complexity allows for a\\nsimple, easily replicable word replacement algorithm. By keeping content constant and\\nvarying the complexity of vocabulary, it was possible to investigate the effectiveness of\\ncomplexity.\\nParticipants and procedure\\nSeventy-one Stanford University undergraduates participated to fulﬁl part of a course\\nrequirement. The survey was included in a packet of unrelated one-page questionnaires.\\nPackets were distributed in class, and participants were given a week to complete the entire\\npacket.\\nStimuli and design\\nSix personal statements for admissions to graduate studies in English Literature were\\ndownloaded from writing improvement websites. The essays varied greatly both in content\\nand quality of writing. Logical excerpts ranging from 138 to 253 words in length were then\\ntaken from each essay. A ‘highly complex’ version of each excerpt was prepared by\\nreplacing every noun, verb and adjective with its longest entry in the Microsoft Word 2000\\nthesaurus. Words that were longer than any thesaurus entry, were not listed in the\\nthesaurus, or for which there was no entry with the same linguistic sense were not\\nreplaced. If two entries were of the same length, the replacement was chosen alphabe-', 'thesaurus, or for which there was no entry with the same linguistic sense were not\\nreplaced. If two entries were of the same length, the replacement was chosen alphabe-\\ntically. When necessary, minor modiﬁcations were made to the essay to maintain the\\ngrammatical structure of a sentence (e.g. replacing ‘an’ with ‘a’ for replacement words\\nbeginning with consonants). A ‘moderately complex’ version of each excerpt was created\\nusing the same algorithm as above, except replacing only every third applicable word.\\nExamples of the stimuli can be found in the appendix.\\nEach participant received only one excerpt. Participants were informed that the excerpt\\ncame from a personal statement for graduate study in the Stanford English department.\\nThey were instructed to read the passage, decide whether or not to accept the applicant,\\nand rate their conﬁdence in their decision on a 7-point scale. 1 They were then asked how\\ndifﬁcult the passage was to understand, also on a seven-point scale.\\nResults\\nThe data of one participant was discarded due to an illegible answer. Analysis of the\\nmanipulation check showed that more complex texts were more difﬁcult to read. ( x ¼ 2.9,\\n4.0 and 4.3 for simple, moderately complex and highly complex, respectively). These\\ndifferences were reliable, F(2, 68) ¼ 4.46, p < 0.05, Cohen’s f ¼ 0.18. For other analyses,\\nacceptance ratings ( þ1 for accept, /C01 for reject) were multiplied by conﬁdence ratings to', 'differences were reliable, F(2, 68) ¼ 4.46, p < 0.05, Cohen’s f ¼ 0.18. For other analyses,\\nacceptance ratings ( þ1 for accept, /C01 for reject) were multiplied by conﬁdence ratings to\\ncreate a /C07 to 7 scale of admission conﬁdence. Level of complexity had a reliable\\ninﬂuence on admission conﬁdence ratings, F(2, 70) ¼ 2.46, p < 0.05, Cohen’s f ¼ 0.12.\\n1With the exception of the dichotomous admissions decision, all dependent measures reported in this paper are\\nseven point scales ranging from 1 ¼ ‘not at all’ to 7¼ ‘very’.\\nProblems with long words 141\\nCopyright # 2005 John Wiley & Sons, Ltd. Appl. Cognit. Psychol. 20: 139–156 (2006)']\n"
     ]
    }
   ],
   "source": [
    "# Retrieve all documents\n",
    "docs = vectorstore.get()\n",
    "\n",
    "print(\"Document IDs:\", docs[\"ids\"])\n",
    "print(\"Document Metadata:\", docs[\"metadatas\"])\n",
    "print(\"Document Content:\", docs[\"documents\"])"
   ]
  },
  {
   "cell_type": "code",
   "execution_count": 26,
   "id": "e1073778-85f4-489b-a5fd-4ad497448f17",
   "metadata": {},
   "outputs": [
    {
     "data": {
      "text/plain": [
       "[Document(metadata={'author': 'Thu Vu', 'creationdate': \"D:20240909152042Z00'00'\", 'creator': 'Preview', 'moddate': \"D:20240910141854Z00'00'\", 'page': 1, 'page_label': '2', 'producer': 'macOS Version 14.4.1 (Build 23E224) Quartz PDFContext, AppendMode 1.1', 'source': 'data/Oppenheimer-2006-Applied_Cognitive_Psychology.pdf', 'title': 'Oppenheimer-2006-Applied_Cognitive_Psychology', 'total_pages': 3}, page_content='was unnecessary and thus surprising readers with the relative disﬂuency of the text.\\nBoth the experts and prevailing wisdom present plausible views, but which (if either) is\\ncorrect? The present paper provides an empirical investigation of the strategy of complex-\\nity, and ﬁnds such a strategy to be unsuccessful. Five studies demonstrate that the loss of\\nﬂuency due to needless complexity in a text negatively impacts raters’ assessments of the\\ntext’s authors.\\nEXPERIMENT 1\\nExperiment 1 aimed to answer several simple questions. First, does increasing the\\ncomplexity of text succeed in making the author appear more intelligent? Second, to\\nwhat extent does the success of this strategy depend on the quality of the original, simpler\\nwriting? Finally, if the strategy is unsuccessful, is the failure of the strategy due to loss of\\nﬂuency? To answer these questions, graduate school admission essays were made more\\ncomplex by substituting some of the original words with their longest applicable thesaurus\\nentries.\\n140 D. M. Oppenheimer\\nCopyright # 2005 John Wiley & Sons, Ltd. Appl. Cognit. Psychol. 20: 139–156 (2006)'),\n",
       " Document(metadata={'author': 'Thu Vu', 'creationdate': \"D:20240909152042Z00'00'\", 'creator': 'Preview', 'moddate': \"D:20240910141854Z00'00'\", 'page': 0, 'page_label': '1', 'producer': 'macOS Version 14.4.1 (Build 23E224) Quartz PDFContext, AppendMode 1.1', 'source': 'data/Oppenheimer-2006-Applied_Cognitive_Psychology.pdf', 'title': 'Oppenheimer-2006-Applied_Cognitive_Psychology', 'total_pages': 3}, page_content='APPLIED COGNITIVE PSYCHOLOGY\\nAppl. Cognit. Psychol. 20: 139–156 (2006)\\nPublished online 31 October 2005 in Wiley InterScience\\n(www.interscience.wiley.com) DOI: 10.1002/acp.1178\\nConsequences of Erudite Vernacular Utilized Irrespective\\nof Necessity: Problems with Using Long Words Needlessly\\nDANIEL M. OPPENHEIMER*\\nPrinceton University, USA\\nSUMMARY\\nMost texts on writing style encourage authors to avoid overly-complex words. However, a majority\\nof undergraduates admit to deliberately increasing the complexity of their vocabulary so as to give\\nthe impression of intelligence. This paper explores the extent to which this strategy is effective.\\nExperiments 1–3 manipulate complexity of texts and ﬁnd a negative relationship between complex-\\nity and judged intelligence. This relationship held regardless of the quality of the original essay, and\\nirrespective of the participants’ prior expectations of essay quality. The negative impact of\\ncomplexity was mediated by processing ﬂuency. Experiment 4 directly manipulated ﬂuency and\\nfound that texts in hard to read fonts are judged to come from less intelligent authors. Experiment 5\\ninvestigated discounting of ﬂuency. When obvious causes for low ﬂuency exist that are not relevant\\nto the judgement at hand, people reduce their reliance on ﬂuency as a cue; in fact, in an effort not to\\nbe inﬂuenced by the irrelevant source of ﬂuency, they over-compensate and are biased in the opposite'),\n",
       " Document(metadata={'author': 'Thu Vu', 'creationdate': \"D:20240909152042Z00'00'\", 'creator': 'Preview', 'moddate': \"D:20240910141854Z00'00'\", 'page': 0, 'page_label': '1', 'producer': 'macOS Version 14.4.1 (Build 23E224) Quartz PDFContext, AppendMode 1.1', 'source': 'data/Oppenheimer-2006-Applied_Cognitive_Psychology.pdf', 'title': 'Oppenheimer-2006-Applied_Cognitive_Psychology', 'total_pages': 3}, page_content='be inﬂuenced by the irrelevant source of ﬂuency, they over-compensate and are biased in the opposite\\ndirection. Implications and applications are discussed. Copyright # 2005 John Wiley & Sons, Ltd.\\nWhen it comes to writing, most experts agree that clarity, simplicity and parsimony are\\nideals that authors should strive for. In their classic manual of style, Strunk and White\\n(1979) encourage authors to ‘omit needless words.’ Daryl Bem’s (1995) guidelines for\\nsubmission to Psychological Bulletin advise, ‘the ﬁrst step towards clarity is writing\\nsimply.’ Even the APA publication manual (1996) recommends, ‘direct, declarative\\nsentences with simple common words are usually best.’\\nHowever, most of us can likely recall having read papers, either by colleagues or\\nstudents, in which the author appears to be deliberately using overly complex words.\\nExperience suggests that the experts’ advice contrasts with prevailing wisdom on how to\\nsound more intelligent as a writer. In fact, when 110 Stanford undergraduates were polled\\nabout their writing habits, most of them admitted that they had made their writing more\\ncomplex in order to appear smarter. For example, when asked, ‘Have you ever changed the\\nwords in an academic essay to make the essay sound more valid or intelligent by using\\ncomplicated language?’ 86.4% of the sample admitted to having done so. Nearly two-\\nthirds answered yes to the question, ‘When you write an essay, do you turn to the thesaurus'),\n",
       " Document(metadata={'author': 'Thu Vu', 'creationdate': \"D:20240909152042Z00'00'\", 'creator': 'Preview', 'moddate': \"D:20240910141854Z00'00'\", 'page': 0, 'page_label': '1', 'producer': 'macOS Version 14.4.1 (Build 23E224) Quartz PDFContext, AppendMode 1.1', 'source': 'data/Oppenheimer-2006-Applied_Cognitive_Psychology.pdf', 'title': 'Oppenheimer-2006-Applied_Cognitive_Psychology', 'total_pages': 3}, page_content='complicated language?’ 86.4% of the sample admitted to having done so. Nearly two-\\nthirds answered yes to the question, ‘When you write an essay, do you turn to the thesaurus\\nto choose words that are more complex to give the impression that the content is more\\nvalid or intelligent?’\\nCopyright # 2005 John Wiley & Sons, Ltd.\\n*Correspondence to: D. M. Oppenheimer, Department of Psychology, Princeton University, Green Hall Room\\n2-S-8, Princeton, NJ 08540, USA. E-mail: doppenhe@princeton.edu')]"
      ]
     },
     "execution_count": 26,
     "metadata": {},
     "output_type": "execute_result"
    }
   ],
   "source": [
    "# Create retriever and get relevant chunks\n",
    "retriever = vectorstore.as_retriever(search_type=\"similarity\")\n",
    "relevant_chunks = retriever.invoke(\"What is the title of the paper?\")\n",
    "relevant_chunks"
   ]
  },
  {
   "cell_type": "code",
   "execution_count": 27,
   "id": "828f2bba-8f9f-4c26-825b-9d43421e501a",
   "metadata": {},
   "outputs": [],
   "source": [
    "# Prompt template\n",
    "PROMPT_TEMPLATE = \"\"\"\n",
    "You are an assistant for question-answering tasks.\n",
    "Use the following pieces of retrieved context to answer\n",
    "the question. If you don't know the answer, say that you\n",
    "don't know. DON'T MAKE UP ANYTHING.\n",
    "\n",
    "{context}\n",
    "\n",
    "---\n",
    "\n",
    "Answer the question based on the above context: {question}\n",
    "\"\"\""
   ]
  },
  {
   "cell_type": "markdown",
   "id": "8e073cf5",
   "metadata": {},
   "source": [
    "# Generate Response"
   ]
  },
  {
   "cell_type": "code",
   "execution_count": 28,
   "id": "ac43f562",
   "metadata": {},
   "outputs": [
    {
     "name": "stdout",
     "output_type": "stream",
     "text": [
      "Human: \n",
      "You are an assistant for question-answering tasks.\n",
      "Use the following pieces of retrieved context to answer\n",
      "the question. If you don't know the answer, say that you\n",
      "don't know. DON'T MAKE UP ANYTHING.\n",
      "\n",
      "was unnecessary and thus surprising readers with the relative disﬂuency of the text.\n",
      "Both the experts and prevailing wisdom present plausible views, but which (if either) is\n",
      "correct? The present paper provides an empirical investigation of the strategy of complex-\n",
      "ity, and ﬁnds such a strategy to be unsuccessful. Five studies demonstrate that the loss of\n",
      "ﬂuency due to needless complexity in a text negatively impacts raters’ assessments of the\n",
      "text’s authors.\n",
      "EXPERIMENT 1\n",
      "Experiment 1 aimed to answer several simple questions. First, does increasing the\n",
      "complexity of text succeed in making the author appear more intelligent? Second, to\n",
      "what extent does the success of this strategy depend on the quality of the original, simpler\n",
      "writing? Finally, if the strategy is unsuccessful, is the failure of the strategy due to loss of\n",
      "ﬂuency? To answer these questions, graduate school admission essays were made more\n",
      "complex by substituting some of the original words with their longest applicable thesaurus\n",
      "entries.\n",
      "140 D. M. Oppenheimer\n",
      "Copyright # 2005 John Wiley & Sons, Ltd. Appl. Cognit. Psychol. 20: 139–156 (2006)\n",
      "\n",
      "---\n",
      "\n",
      "APPLIED COGNITIVE PSYCHOLOGY\n",
      "Appl. Cognit. Psychol. 20: 139–156 (2006)\n",
      "Published online 31 October 2005 in Wiley InterScience\n",
      "(www.interscience.wiley.com) DOI: 10.1002/acp.1178\n",
      "Consequences of Erudite Vernacular Utilized Irrespective\n",
      "of Necessity: Problems with Using Long Words Needlessly\n",
      "DANIEL M. OPPENHEIMER*\n",
      "Princeton University, USA\n",
      "SUMMARY\n",
      "Most texts on writing style encourage authors to avoid overly-complex words. However, a majority\n",
      "of undergraduates admit to deliberately increasing the complexity of their vocabulary so as to give\n",
      "the impression of intelligence. This paper explores the extent to which this strategy is effective.\n",
      "Experiments 1–3 manipulate complexity of texts and ﬁnd a negative relationship between complex-\n",
      "ity and judged intelligence. This relationship held regardless of the quality of the original essay, and\n",
      "irrespective of the participants’ prior expectations of essay quality. The negative impact of\n",
      "complexity was mediated by processing ﬂuency. Experiment 4 directly manipulated ﬂuency and\n",
      "found that texts in hard to read fonts are judged to come from less intelligent authors. Experiment 5\n",
      "investigated discounting of ﬂuency. When obvious causes for low ﬂuency exist that are not relevant\n",
      "to the judgement at hand, people reduce their reliance on ﬂuency as a cue; in fact, in an effort not to\n",
      "be inﬂuenced by the irrelevant source of ﬂuency, they over-compensate and are biased in the opposite\n",
      "\n",
      "---\n",
      "\n",
      "be inﬂuenced by the irrelevant source of ﬂuency, they over-compensate and are biased in the opposite\n",
      "direction. Implications and applications are discussed. Copyright # 2005 John Wiley & Sons, Ltd.\n",
      "When it comes to writing, most experts agree that clarity, simplicity and parsimony are\n",
      "ideals that authors should strive for. In their classic manual of style, Strunk and White\n",
      "(1979) encourage authors to ‘omit needless words.’ Daryl Bem’s (1995) guidelines for\n",
      "submission to Psychological Bulletin advise, ‘the ﬁrst step towards clarity is writing\n",
      "simply.’ Even the APA publication manual (1996) recommends, ‘direct, declarative\n",
      "sentences with simple common words are usually best.’\n",
      "However, most of us can likely recall having read papers, either by colleagues or\n",
      "students, in which the author appears to be deliberately using overly complex words.\n",
      "Experience suggests that the experts’ advice contrasts with prevailing wisdom on how to\n",
      "sound more intelligent as a writer. In fact, when 110 Stanford undergraduates were polled\n",
      "about their writing habits, most of them admitted that they had made their writing more\n",
      "complex in order to appear smarter. For example, when asked, ‘Have you ever changed the\n",
      "words in an academic essay to make the essay sound more valid or intelligent by using\n",
      "complicated language?’ 86.4% of the sample admitted to having done so. Nearly two-\n",
      "thirds answered yes to the question, ‘When you write an essay, do you turn to the thesaurus\n",
      "\n",
      "---\n",
      "\n",
      "complicated language?’ 86.4% of the sample admitted to having done so. Nearly two-\n",
      "thirds answered yes to the question, ‘When you write an essay, do you turn to the thesaurus\n",
      "to choose words that are more complex to give the impression that the content is more\n",
      "valid or intelligent?’\n",
      "Copyright # 2005 John Wiley & Sons, Ltd.\n",
      "*Correspondence to: D. M. Oppenheimer, Department of Psychology, Princeton University, Green Hall Room\n",
      "2-S-8, Princeton, NJ 08540, USA. E-mail: doppenhe@princeton.edu\n",
      "\n",
      "---\n",
      "\n",
      "Answer the question based on the above context: What is the title of the paper?\n",
      "\n"
     ]
    }
   ],
   "source": [
    "# Concatenate context text\n",
    "context_text = \"\\n\\n---\\n\\n\".join([doc.page_content for doc in relevant_chunks])\n",
    "\n",
    "# Create prompt\n",
    "prompt_template = ChatPromptTemplate.from_template(PROMPT_TEMPLATE)\n",
    "prompt = prompt_template.format(\n",
    "    context=context_text, question=\"What is the title of the paper?\"\n",
    ")\n",
    "print(prompt)"
   ]
  },
  {
   "cell_type": "code",
   "execution_count": 29,
   "id": "07843c20",
   "metadata": {},
   "outputs": [
    {
     "data": {
      "text/plain": [
       "AIMessage(content='The title of the paper is \"Consequences of Erudite Vernacular Utilized Irrespective of Necessity: Problems with Using Long Words Needlessly.\"', additional_kwargs={'refusal': None}, response_metadata={'token_usage': {'completion_tokens': 33, 'prompt_tokens': 1117, 'total_tokens': 1150, 'completion_tokens_details': {'accepted_prediction_tokens': 0, 'audio_tokens': 0, 'reasoning_tokens': 0, 'rejected_prediction_tokens': 0}, 'prompt_tokens_details': {'audio_tokens': 0, 'cached_tokens': 0}}, 'model_name': 'gpt-4o-mini-2024-07-18', 'system_fingerprint': 'fp_b376dfbbd5', 'id': 'chatcmpl-BFZBsriXm5A17vvmNsa7cmuDl28mG', 'finish_reason': 'stop', 'logprobs': None}, id='run-87e63c91-2ffe-4daa-9d3b-d4ce1d902ed2-0', usage_metadata={'input_tokens': 1117, 'output_tokens': 33, 'total_tokens': 1150, 'input_token_details': {'audio': 0, 'cache_read': 0}, 'output_token_details': {'audio': 0, 'reasoning': 0}})"
      ]
     },
     "execution_count": 29,
     "metadata": {},
     "output_type": "execute_result"
    }
   ],
   "source": [
    "llm.invoke(prompt)"
   ]
  },
  {
   "cell_type": "markdown",
   "id": "372ce4e1",
   "metadata": {},
   "source": [
    "## Using Langchain Expression Languages\n",
    "\n",
    "It is a way to chain all the functions and steps together "
   ]
  },
  {
   "cell_type": "code",
   "execution_count": 30,
   "id": "9331b06d",
   "metadata": {},
   "outputs": [
    {
     "data": {
      "text/plain": [
       "AIMessage(content='The title of the paper is \"Consequences of Erudite Vernacular Utilized Irrespective of Necessity: Problems with Using Long Words Needlessly.\"', additional_kwargs={'refusal': None}, response_metadata={'token_usage': {'completion_tokens': 33, 'prompt_tokens': 1111, 'total_tokens': 1144, 'completion_tokens_details': {'accepted_prediction_tokens': 0, 'audio_tokens': 0, 'reasoning_tokens': 0, 'rejected_prediction_tokens': 0}, 'prompt_tokens_details': {'audio_tokens': 0, 'cached_tokens': 0}}, 'model_name': 'gpt-4o-mini-2024-07-18', 'system_fingerprint': 'fp_b376dfbbd5', 'id': 'chatcmpl-BFZBv6doN51f61DIKZ35bigvmTqU3', 'finish_reason': 'stop', 'logprobs': None}, id='run-91467c66-a3c8-4301-933a-7d0c43e8ab63-0', usage_metadata={'input_tokens': 1111, 'output_tokens': 33, 'total_tokens': 1144, 'input_token_details': {'audio': 0, 'cache_read': 0}, 'output_token_details': {'audio': 0, 'reasoning': 0}})"
      ]
     },
     "execution_count": 30,
     "metadata": {},
     "output_type": "execute_result"
    }
   ],
   "source": [
    "def format_docs(docs):\n",
    "    return \"\\n\\n\".join(doc.page_content for doc in docs)\n",
    "\n",
    "\n",
    "rag_chain = (\n",
    "    {\"context\": retriever | format_docs, \"question\": RunnablePassthrough()}\n",
    "    | prompt_template\n",
    "    | llm\n",
    ")\n",
    "rag_chain.invoke(\"What's the title of this paper?\")"
   ]
  },
  {
   "cell_type": "markdown",
   "id": "0e4fcf24",
   "metadata": {},
   "source": [
    "## Generate Structured Output"
   ]
  },
  {
   "cell_type": "code",
   "execution_count": 31,
   "id": "a2daea87",
   "metadata": {},
   "outputs": [],
   "source": [
    "class AnswerWithSources(BaseModel):\n",
    "    \"\"\"An answer to the question, with sources and reasoning.\"\"\"\n",
    "\n",
    "    answer: str = Field(description=\"Answer to question\")\n",
    "    sources: str = Field(\n",
    "        description=\"Full direct text chunk from the context used to answer the question\"\n",
    "    )\n",
    "    reasoning: str = Field(\n",
    "        description=\"Explain the reasoning of the answer based on the sources\"\n",
    "    )\n",
    "\n",
    "\n",
    "class ExtractedInfo(BaseModel):\n",
    "    \"\"\"Extracted information about the research article\"\"\"\n",
    "\n",
    "    paper_title: AnswerWithSources\n",
    "    paper_summary: AnswerWithSources\n",
    "    publication_year: AnswerWithSources\n",
    "    paper_authors: AnswerWithSources"
   ]
  },
  {
   "cell_type": "code",
   "execution_count": 32,
   "id": "e4c6df9a",
   "metadata": {},
   "outputs": [
    {
     "name": "stderr",
     "output_type": "stream",
     "text": [
      "/Users/nicole_chan/Library/CloudStorage/OneDrive-CUHK-Shenzhen/Extracting-Structured-Data-From-PDFs-using-RAG/myenv/lib/python3.12/site-packages/langchain_openai/chat_models/base.py:1569: UserWarning: Received a Pydantic BaseModel V1 schema. This is not supported by method=\"json_schema\". Please use method=\"function_calling\" or specify schema via JSON Schema or Pydantic V2 BaseModel. Overriding to method=\"function_calling\".\n",
      "  warnings.warn(\n"
     ]
    },
    {
     "data": {
      "text/plain": [
       "ExtractedInfo(paper_title=AnswerWithSources(answer='Consequences of Erudite Vernacular Utilized Irrespective of Necessity: Problems with Using Long Words Needlessly', sources='Consequences of Erudite Vernacular Utilized Irrespective of Necessity: Problems with Using Long Words Needlessly', reasoning='The title is explicitly stated in the context provided.'), paper_summary=AnswerWithSources(answer=\"This paper explores the extent to which the deliberate use of complex vocabulary impacts judgments of intelligence. Experiments reveal a negative relationship between text complexity and judged intelligence, affecting perceptions regardless of essay quality or participants' expectations. Ultimately, it concludes that clarity and simplicity in writing are preferable.\", sources='SUMMARY Most texts on writing style encourage authors to avoid overly-complex words. However, a majority of undergraduates admit to deliberately increasing the complexity of their vocabulary so as to give the impression of intelligence. This paper explores the extent to which this strategy is effective.', reasoning='The summary encapsulates the key findings and focus of the paper, as outlined in the provided text.'), publication_year=AnswerWithSources(answer='2005', sources='Published online 31 October 2005 in Wiley Interscience', reasoning='The publication date is clearly mentioned in the context.'), paper_authors=AnswerWithSources(answer='DANIEL M. OPPENHEIMER', sources='DANIEL M. OPPENHEIMER* Princeton University, USA', reasoning='The authorship is directly listed in the provided text.'))"
      ]
     },
     "execution_count": 32,
     "metadata": {},
     "output_type": "execute_result"
    }
   ],
   "source": [
    "rag_chain = (\n",
    "    {\"context\": retriever | format_docs, \"question\": RunnablePassthrough()}\n",
    "    | prompt_template\n",
    "    | llm.with_structured_output(ExtractedInfo, strict=True)\n",
    ")\n",
    "\n",
    "rag_chain.invoke(\n",
    "    \"Give me the title, summary, publication date, authors of the research paper.\"\n",
    ")"
   ]
  },
  {
   "cell_type": "markdown",
   "id": "98d759b5",
   "metadata": {},
   "source": [
    "# Transform input into dataframe"
   ]
  },
  {
   "cell_type": "code",
   "execution_count": 33,
   "id": "bcfc3882",
   "metadata": {},
   "outputs": [
    {
     "data": {
      "text/html": [
       "<div>\n",
       "<style scoped>\n",
       "    .dataframe tbody tr th:only-of-type {\n",
       "        vertical-align: middle;\n",
       "    }\n",
       "\n",
       "    .dataframe tbody tr th {\n",
       "        vertical-align: top;\n",
       "    }\n",
       "\n",
       "    .dataframe thead th {\n",
       "        text-align: right;\n",
       "    }\n",
       "</style>\n",
       "<table border=\"1\" class=\"dataframe\">\n",
       "  <thead>\n",
       "    <tr style=\"text-align: right;\">\n",
       "      <th></th>\n",
       "      <th>paper_title</th>\n",
       "      <th>paper_summary</th>\n",
       "      <th>publication_year</th>\n",
       "      <th>paper_authors</th>\n",
       "    </tr>\n",
       "  </thead>\n",
       "  <tbody>\n",
       "    <tr>\n",
       "      <th>answer</th>\n",
       "      <td>Consequences of Erudite Vernacular Utilized Ir...</td>\n",
       "      <td>The paper explores the tendency of writers, pa...</td>\n",
       "      <td>2005</td>\n",
       "      <td>Daniel M. Oppenheimer</td>\n",
       "    </tr>\n",
       "    <tr>\n",
       "      <th>source</th>\n",
       "      <td>Consequences of Erudite Vernacular Utilized Ir...</td>\n",
       "      <td>SUMMARY Most texts on writing style encourage ...</td>\n",
       "      <td>Appl. Cognit. Psychol. 20: 139–156 (2006) Publ...</td>\n",
       "      <td>DANIEL M. OPPENHEIMER* Princeton University, USA</td>\n",
       "    </tr>\n",
       "    <tr>\n",
       "      <th>reasoning</th>\n",
       "      <td>The title is explicitly stated in the retrieve...</td>\n",
       "      <td>The summary captures the essence of the resear...</td>\n",
       "      <td>The paper was published online in October 2005...</td>\n",
       "      <td>The author's name is specifically mentioned in...</td>\n",
       "    </tr>\n",
       "  </tbody>\n",
       "</table>\n",
       "</div>"
      ],
      "text/plain": [
       "                                                 paper_title  \\\n",
       "answer     Consequences of Erudite Vernacular Utilized Ir...   \n",
       "source     Consequences of Erudite Vernacular Utilized Ir...   \n",
       "reasoning  The title is explicitly stated in the retrieve...   \n",
       "\n",
       "                                               paper_summary  \\\n",
       "answer     The paper explores the tendency of writers, pa...   \n",
       "source     SUMMARY Most texts on writing style encourage ...   \n",
       "reasoning  The summary captures the essence of the resear...   \n",
       "\n",
       "                                            publication_year  \\\n",
       "answer                                                  2005   \n",
       "source     Appl. Cognit. Psychol. 20: 139–156 (2006) Publ...   \n",
       "reasoning  The paper was published online in October 2005...   \n",
       "\n",
       "                                               paper_authors  \n",
       "answer                                 Daniel M. Oppenheimer  \n",
       "source      DANIEL M. OPPENHEIMER* Princeton University, USA  \n",
       "reasoning  The author's name is specifically mentioned in...  "
      ]
     },
     "execution_count": 33,
     "metadata": {},
     "output_type": "execute_result"
    }
   ],
   "source": [
    "structured_response = rag_chain.invoke(\n",
    "    \"Give me the title, summary, publication date, authors of the research paper.\"\n",
    ")\n",
    "df = pd.DataFrame([structured_response.dict()])\n",
    "\n",
    "# Transforming into a table with two rows: 'answer' and 'source'\n",
    "answer_row = []\n",
    "source_row = []\n",
    "reasoning_row = []\n",
    "\n",
    "for col in df.columns:\n",
    "    answer_row.append(df[col][0][\"answer\"])\n",
    "    source_row.append(df[col][0][\"sources\"])\n",
    "    reasoning_row.append(df[col][0][\"reasoning\"])\n",
    "\n",
    "# Create new dataframe with two rows: 'answer' and 'source'\n",
    "structured_response_df = pd.DataFrame(\n",
    "    [answer_row, source_row, reasoning_row],\n",
    "    columns=df.columns,\n",
    "    index=[\"answer\", \"source\", \"reasoning\"],\n",
    ")\n",
    "structured_response_df"
   ]
  }
 ],
 "metadata": {
  "kernelspec": {
   "display_name": "myenv",
   "language": "python",
   "name": "python3"
  },
  "language_info": {
   "codemirror_mode": {
    "name": "ipython",
    "version": 3
   },
   "file_extension": ".py",
   "mimetype": "text/x-python",
   "name": "python",
   "nbconvert_exporter": "python",
   "pygments_lexer": "ipython3",
   "version": "3.12.4"
  }
 },
 "nbformat": 4,
 "nbformat_minor": 5
}
